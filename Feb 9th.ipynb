{
 "cells": [
  {
   "cell_type": "code",
   "execution_count": 11,
   "id": "31679fbb-1459-4049-b135-7376ff04542a",
   "metadata": {},
   "outputs": [
    {
     "name": "stdout",
     "output_type": "stream",
     "text": [
      "4\n"
     ]
    }
   ],
   "source": [
    "def count_num_of_uniq_data (a_list: list) -> int:\n",
    "    type_so_far: list = []\n",
    "    count = 0\n",
    "    for element in a_list:\n",
    "        if type(element) not in type_so_far:\n",
    "            type_so_far.append(type(element))\n",
    "            count += 1\n",
    "    return count\n",
    "\n",
    "johns = [True,\"pen\",4,6,4.3]\n",
    "print(count_num_of_uniq_data(johns))"
   ]
  },
  {
   "cell_type": "code",
   "execution_count": 17,
   "id": "69f35a1e-38e8-4c4e-bb6d-4cd5d5fa68b9",
   "metadata": {},
   "outputs": [
    {
     "name": "stdout",
     "output_type": "stream",
     "text": [
      "5.3\n"
     ]
    }
   ],
   "source": [
    "cat = [5.3,'orange','loud']\n",
    "size, color, disposition = cat\n",
    "print(size)"
   ]
  },
  {
   "cell_type": "code",
   "execution_count": 18,
   "id": "731efe4e-1c7a-40e3-bf1c-38ea170ea321",
   "metadata": {},
   "outputs": [
    {
     "data": {
      "text/plain": [
       "{'cat', 'dog'}"
      ]
     },
     "execution_count": 18,
     "metadata": {},
     "output_type": "execute_result"
    }
   ],
   "source": [
    "animals = set()\n",
    "animals.add(\"dog\")\n",
    "animals.add(\"cat\")\n",
    "animals.add(\"dog\")\n",
    "animals"
   ]
  },
  {
   "cell_type": "code",
   "execution_count": null,
   "id": "768eaa8d-b8f1-432f-bbfd-01e592ec7c39",
   "metadata": {},
   "outputs": [],
   "source": []
  }
 ],
 "metadata": {
  "kernelspec": {
   "display_name": "Python 3 (ipykernel)",
   "language": "python",
   "name": "python3"
  },
  "language_info": {
   "codemirror_mode": {
    "name": "ipython",
    "version": 3
   },
   "file_extension": ".py",
   "mimetype": "text/x-python",
   "name": "python",
   "nbconvert_exporter": "python",
   "pygments_lexer": "ipython3",
   "version": "3.9.13"
  }
 },
 "nbformat": 4,
 "nbformat_minor": 5
}
