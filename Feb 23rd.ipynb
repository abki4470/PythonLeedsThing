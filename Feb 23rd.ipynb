{
 "cells": [
  {
   "cell_type": "markdown",
   "metadata": {
    "id": "caMmSZlu_OHq"
   },
   "source": [
    "- So far, everything we have done in class has been deterministic\n",
    "- This means that there have not been any aspect of randomness in the code we have run so far.\n",
    "- But many business processes involve unpredictability or randomness.\n",
    "- Note: randomness can still have structure (e.g., the probability that one team wins may be higher than another, even if both are random)."
   ]
  },
  {
   "cell_type": "markdown",
   "metadata": {
    "id": "xJGagcM9AJ1s"
   },
   "source": [
    "### What are some business processes that involve randomness?\n",
    "\n",
    "- Marketing majors?\n",
    "- Management majors?\n",
    "- Finance majors?\n",
    "- Others? "
   ]
  },
  {
   "cell_type": "markdown",
   "metadata": {
    "id": "OnZzbyD-ATzT"
   },
   "source": [
    "## There are a lot of ways to represent randomness in Python\n",
    "\n",
    "- Today we will focus on the `random` module"
   ]
  },
  {
   "cell_type": "code",
   "execution_count": 1,
   "metadata": {
    "colab": {
     "base_uri": "https://localhost:8080/"
    },
    "id": "jxNjr9D3Aajk",
    "outputId": "e5bc5b08-766d-4f2e-99d8-5c10480d5a74"
   },
   "outputs": [
    {
     "data": {
      "text/plain": [
       "8.040535349751465e-07"
      ]
     },
     "execution_count": 1,
     "metadata": {},
     "output_type": "execute_result"
    }
   ],
   "source": [
    "from random import random \n",
    "\n",
    "min_ = 40000\n",
    "for _ in range(10000):\n",
    "    draw = random()\n",
    "    if draw < min_:\n",
    "        min_ = draw\n",
    "\n",
    "min_"
   ]
  },
  {
   "cell_type": "markdown",
   "metadata": {
    "id": "10mRM_1UAfZe"
   },
   "source": [
    "- Try running this again? What do you think it is doing?"
   ]
  },
  {
   "cell_type": "markdown",
   "metadata": {
    "id": "iWxMXK-FIQNg"
   },
   "source": [
    "### What is the distribution of the random function?\n",
    "\n",
    "- Try to figure out the distribution by writing a \"histogram\" function\n",
    "- [Histograms](https://en.wikipedia.org/wiki/Histogram)"
   ]
  },
  {
   "cell_type": "code",
   "execution_count": 2,
   "metadata": {
    "id": "I0ixNT8lAc0J"
   },
   "outputs": [
    {
     "ename": "IndentationError",
     "evalue": "expected an indented block (2116610182.py, line 6)",
     "output_type": "error",
     "traceback": [
      "\u001b[1;36m  File \u001b[1;32m\"C:\\Users\\abhir\\AppData\\Local\\Temp\\ipykernel_7228\\2116610182.py\"\u001b[1;36m, line \u001b[1;32m6\u001b[0m\n\u001b[1;33m    one_bin(draws, 0.5, 0.6)\u001b[0m\n\u001b[1;37m    ^\u001b[0m\n\u001b[1;31mIndentationError\u001b[0m\u001b[1;31m:\u001b[0m expected an indented block\n"
     ]
    }
   ],
   "source": [
    "from typing import List\n",
    "\n",
    "def one_bin(draws, start, end) -> int:\n",
    "    ### return how many draws lie in the bin\n",
    "    \n",
    "one_bin(draws, 0.5, 0.6)\n",
    "\n",
    "\n",
    "def historam(draws: List[float], bins: int = 10):\n",
    "    counter = {}\n",
    "    cutoffs = 1/bins\n",
    "\n",
    "    for j in range(bins):\n",
    "        counter[j] = 0\n",
    "\n",
    "    for draw in draws:\n",
    "        # figure out which bin accepts the draw\n",
    "        discretized_draw = discretize(draw)"
   ]
  },
  {
   "cell_type": "code",
   "execution_count": null,
   "metadata": {
    "id": "W8vWtmDh9aJE"
   },
   "outputs": [],
   "source": [
    "for start in [0.0, 0.1, 0.2, 0.3, 0.4, 0.5, 0.6, 0.7, 0.8, 0.9]:\n",
    "    in_bin = one_bin(draws, start, start + .1)"
   ]
  },
  {
   "cell_type": "code",
   "execution_count": null,
   "metadata": {
    "id": "x7hP9rMo83RC"
   },
   "outputs": [],
   "source": [
    "def get_input():\n",
    "  all_draws = []\n",
    "  for _ in range(1000):\n",
    "      all_draws.append(random())\n",
    "  return all_draws\n",
    "\n",
    "draws = get_input()\n",
    "\n",
    "one_bin(draws, 0.0, 0.1)\n",
    "one_bin(draws, .1, .2)\n",
    "one_bin(draws, .2, .3)\n",
    "one_bin(draws, .3, .4)\n",
    "one_bin(draws, .4, .5)\n",
    "one_bin(draws, .5, .6)\n",
    "one_bin(draws, .6, .7)\n",
    "one_bin(draws, .7, .8)\n",
    "one_bin(draws, .8, .9)\n",
    "one_bin(draws, .9, 1.0)"
   ]
  },
  {
   "cell_type": "code",
   "execution_count": null,
   "metadata": {
    "colab": {
     "base_uri": "https://localhost:8080/"
    },
    "id": "PrgTj2HV4sZf",
    "outputId": "e62ccd35-a3d1-42c8-c6f8-522b652787dd"
   },
   "outputs": [],
   "source": [
    "def one_bin(draws, start, end) -> int:\n",
    "    ### return how many draws lie in the bin\n",
    "    # start = .7\n",
    "    # end = .8\n",
    "    ### high level plan for how to execute the function?\n",
    "    ### .76 is the first item in the list between start and end? 1 \n",
    "    ### .84 is the next item in the list between start and end? 0\n",
    "    ### .74 is the first item in the list between start and end? 1\n",
    "\n",
    "    items_in_bin = 0\n",
    "    for item in draws:\n",
    "        # is this item in the bin?\n",
    "        if item >= start and item < end:\n",
    "            items_in_bin += 1\n",
    "\n",
    "    assert type(items_in_bin) == int\n",
    "    return items_in_bin\n",
    "\n",
    "def get_input():\n",
    "  all_draws = []\n",
    "  for _ in range(1000):\n",
    "      all_draws.append(random())\n",
    "  return all_draws\n",
    "\n",
    "all_draws = get_input()\n",
    "all_draws[0:4]"
   ]
  },
  {
   "cell_type": "code",
   "execution_count": null,
   "metadata": {
    "id": "UJSYofpJ9YRy"
   },
   "outputs": [],
   "source": []
  },
  {
   "cell_type": "code",
   "execution_count": null,
   "metadata": {
    "colab": {
     "base_uri": "https://localhost:8080/",
     "height": 35
    },
    "id": "oTgBbp1T5Vf-",
    "outputId": "1aefa883-e43a-4da3-d196-f5a7ac6dbcb6"
   },
   "outputs": [],
   "source": [
    "L = [\"x\", \"x\", \"x\", \"x\"]\n",
    "\"\".join(L)"
   ]
  },
  {
   "cell_type": "code",
   "execution_count": null,
   "metadata": {
    "colab": {
     "base_uri": "https://localhost:8080/"
    },
    "id": "zuGREd-Q4et_",
    "outputId": "ec9afb25-4da7-4584-d1e4-4a172b2d0870"
   },
   "outputs": [],
   "source": []
  },
  {
   "cell_type": "code",
   "execution_count": null,
   "metadata": {
    "colab": {
     "base_uri": "https://localhost:8080/"
    },
    "id": "3gcevZ3118bQ",
    "outputId": "083b80bb-f628-4add-ae02-02234f056041"
   },
   "outputs": [],
   "source": [
    "draw_ = random()\n",
    "#int(random() * 10)\n",
    "draw_"
   ]
  },
  {
   "cell_type": "code",
   "execution_count": null,
   "metadata": {
    "colab": {
     "base_uri": "https://localhost:8080/"
    },
    "id": "S-Joa9wD2Eqz",
    "outputId": "cb1f5f61-5b6b-4f17-f88e-7db563502111"
   },
   "outputs": [],
   "source": [
    "def discretize(draw_):\n",
    "    return int(draw_ * 10)/10\n",
    "\n",
    "discretize(.888)"
   ]
  },
  {
   "cell_type": "markdown",
   "metadata": {
    "id": "asOLKFuQJGBQ"
   },
   "source": [
    "### Simulation again\n",
    "\n",
    "- So far, all of our simulations have been deterministic\n",
    "- But it is common to write simulations that are based on chance\n",
    "- Here is a small example \n",
    "- Try completing the function"
   ]
  },
  {
   "cell_type": "code",
   "execution_count": 15,
   "metadata": {
    "id": "nvwxn7L02D54"
   },
   "outputs": [
    {
     "data": {
      "text/plain": [
       "44"
      ]
     },
     "execution_count": 15,
     "metadata": {},
     "output_type": "execute_result"
    }
   ],
   "source": [
    "from random import random\n",
    "def abe_kicks (p= 0.15):\n",
    "    if random() < p:\n",
    "        return True\n",
    "    else:\n",
    "        return False\n",
    "\n",
    "count = 0\n",
    "for i in range(100):\n",
    "    hits = abe_kicks(p=0.5)\n",
    "    if hits:\n",
    "        count += 1\n",
    "count"
   ]
  },
  {
   "cell_type": "code",
   "execution_count": 30,
   "metadata": {
    "colab": {
     "base_uri": "https://localhost:8080/"
    },
    "id": "J91Ub4FTJWFA",
    "outputId": "bc3ce871-4761-40b8-a4c6-11136f9851ed"
   },
   "outputs": [],
   "source": [
    "from random import random\n",
    "\n",
    "def broncos_season(probs: dict, games: int) -> int:\n",
    "    '''\n",
    "    Simulate a random season of the Broncos\n",
    "    Return the number of wins in the season\n",
    "    '''\n",
    "    wins = 0\n",
    "    for game in range(games):\n",
    "        draw = random()\n",
    "        if draw <= probs[\"w\"]:\n",
    "            wins += 1 \n",
    "    return wins\n",
    "\n",
    "games = 16\n",
    "outcome = broncos_season({\"w\": .4}, games)\n",
    "\n",
    "assert type(outcome) == int\n",
    "assert outcome < games\n"
   ]
  },
  {
   "cell_type": "markdown",
   "metadata": {},
   "source": [
    "Business logic\n",
    "You work for a credit card company\n",
    "You want to avoid fraudulent transactions.\n",
    "One way to avoid fraudulent transactions is to ensure that a customers name, number and address match the records your database\n",
    "So when the person goes to make a transaction online, if they give an address or name that does not match the number, you can reject the transaction.\n",
    "Write a function is_ok which returns True if the name, number and address from a transaction match the record in your database. And false otherwise."
   ]
  },
  {
   "cell_type": "code",
   "execution_count": 27,
   "metadata": {},
   "outputs": [
    {
     "ename": "KeyError",
     "evalue": "0",
     "output_type": "error",
     "traceback": [
      "\u001b[1;31m---------------------------------------------------------------------------\u001b[0m",
      "\u001b[1;31mKeyError\u001b[0m                                  Traceback (most recent call last)",
      "\u001b[1;32m~\\AppData\\Local\\Temp\\ipykernel_6012\\2120778895.py\u001b[0m in \u001b[0;36m<module>\u001b[1;34m\u001b[0m\n\u001b[0;32m     27\u001b[0m \u001b[1;33m\u001b[0m\u001b[0m\n\u001b[0;32m     28\u001b[0m \u001b[0mtest\u001b[0m \u001b[1;33m=\u001b[0m \u001b[1;33m{\u001b[0m\u001b[1;34m\"na33me\"\u001b[0m\u001b[1;33m:\u001b[0m \u001b[1;34m\"Grisha Brenden\"\u001b[0m\u001b[1;33m,\u001b[0m \u001b[1;34m\"number\"\u001b[0m\u001b[1;33m:\u001b[0m \u001b[1;34m\"12395\"\u001b[0m\u001b[1;33m,\u001b[0m \u001b[1;34m\"address\"\u001b[0m\u001b[1;33m:\u001b[0m \u001b[1;34m\"995 Regent Dr\"\u001b[0m\u001b[1;33m}\u001b[0m\u001b[1;33m\u001b[0m\u001b[1;33m\u001b[0m\u001b[0m\n\u001b[1;32m---> 29\u001b[1;33m \u001b[0mis_ok\u001b[0m\u001b[1;33m(\u001b[0m\u001b[0mtest\u001b[0m\u001b[1;33m)\u001b[0m\u001b[1;33m\u001b[0m\u001b[1;33m\u001b[0m\u001b[0m\n\u001b[0m\u001b[0;32m     30\u001b[0m \u001b[1;33m\u001b[0m\u001b[0m\n\u001b[0;32m     31\u001b[0m \u001b[1;32mdef\u001b[0m \u001b[0mmatch\u001b[0m\u001b[1;33m(\u001b[0m\u001b[0m_database_record\u001b[0m\u001b[1;33m:\u001b[0m \u001b[0mdict\u001b[0m\u001b[1;33m,\u001b[0m \u001b[0m_transaction\u001b[0m\u001b[1;33m:\u001b[0m \u001b[0mdict\u001b[0m\u001b[1;33m)\u001b[0m \u001b[1;33m->\u001b[0m \u001b[0mbool\u001b[0m\u001b[1;33m:\u001b[0m\u001b[1;33m\u001b[0m\u001b[1;33m\u001b[0m\u001b[0m\n",
      "\u001b[1;32m~\\AppData\\Local\\Temp\\ipykernel_6012\\2120778895.py\u001b[0m in \u001b[0;36mis_ok\u001b[1;34m(_transaction)\u001b[0m\n\u001b[0;32m     19\u001b[0m             \u001b[1;32mraise\u001b[0m \u001b[0mException\u001b[0m\u001b[1;33m(\u001b[0m\u001b[1;34m\"Fail\"\u001b[0m\u001b[1;33m)\u001b[0m\u001b[1;33m\u001b[0m\u001b[1;33m\u001b[0m\u001b[0m\n\u001b[0;32m     20\u001b[0m     \u001b[1;31m#Check format\u001b[0m\u001b[1;33m\u001b[0m\u001b[1;33m\u001b[0m\u001b[0m\n\u001b[1;32m---> 21\u001b[1;33m     \u001b[1;32mif\u001b[0m \u001b[0m_transaction\u001b[0m\u001b[1;33m[\u001b[0m\u001b[1;36m0\u001b[0m\u001b[1;33m]\u001b[0m \u001b[1;33m!=\u001b[0m \u001b[1;34m\"name\"\u001b[0m\u001b[1;33m:\u001b[0m\u001b[1;33m\u001b[0m\u001b[1;33m\u001b[0m\u001b[0m\n\u001b[0m\u001b[0;32m     22\u001b[0m         \u001b[1;32mraise\u001b[0m \u001b[0mException\u001b[0m\u001b[1;33m(\u001b[0m\u001b[1;34m\"Fail\"\u001b[0m\u001b[1;33m)\u001b[0m\u001b[1;33m\u001b[0m\u001b[1;33m\u001b[0m\u001b[0m\n\u001b[0;32m     23\u001b[0m     \u001b[1;32mif\u001b[0m \u001b[0m_transaction\u001b[0m\u001b[1;33m[\u001b[0m\u001b[1;36m1\u001b[0m\u001b[1;33m]\u001b[0m \u001b[1;33m!=\u001b[0m \u001b[1;34m\"number\"\u001b[0m\u001b[1;33m:\u001b[0m\u001b[1;33m\u001b[0m\u001b[1;33m\u001b[0m\u001b[0m\n",
      "\u001b[1;31mKeyError\u001b[0m: 0"
     ]
    }
   ],
   "source": [
    "def is_ok(_transaction: dict):\n",
    "    #Check Length\n",
    "    if len(_transaction) < 3:\n",
    "        raise Exception(\"Fail\")\n",
    "    if len(_transaction) > 3:\n",
    "        raise Exception(\"Fail\")\n",
    "    \n",
    "    #Check Null values\n",
    "    for key,values in _transaction.items():\n",
    "        if key == \"\":\n",
    "            raise Exception(\"Fail\")\n",
    "        if values == None:\n",
    "            raise Exception(\"Fail\")\n",
    "    #Check Type\n",
    "    for key,value in _transaction.items():\n",
    "        if isinstance(key, str) == False:\n",
    "            raise Exception(\"Fail\")\n",
    "        if isinstance(value, str) == False:\n",
    "            raise Exception(\"Fail\")\n",
    "    #Check format\n",
    "    if _transaction[0] != \"name\":\n",
    "        raise Exception(\"Fail\")\n",
    "    if _transaction[1] != \"number\":\n",
    "        raise Exception(\"Fail\")\n",
    "    if _transaction[1] != \"address\":\n",
    "        raise Exception(\"Fail\")            \n",
    "            \n",
    "test = {\"name\": \"Grisha Brenden\", \"number\": \"12395\", \"address\": \"995 Regent Dr\"}\n",
    "is_ok(test)\n",
    "\n",
    "\n",
    "def match(_database_record: dict, _transaction: dict) -> bool:\n",
    "    if _database_record[\"name\"] == _transaction[\"name\"] and _database_record[\"number\"] == _transaction[\"number\"] and _database_record[\"address\"] == _transaction[\"address\"]:\n",
    "        return True\n",
    "    else:\n",
    "        return False\n",
    "    \n",
    "    \n",
    "database_record = {\"name\": \"Grisha Brenden\", \"number\": \"12395\", \"address\": \"995 Regent Dr\"}\n",
    "transaction = {\"name\":\"Grisha Brenden\", \"number\": \"12395\", \"address\": \"995 Regent Dr\"}\n",
    "assert match(_database_record=database_record, _transaction=transaction)"
   ]
  },
  {
   "cell_type": "code",
   "execution_count": null,
   "metadata": {},
   "outputs": [],
   "source": []
  },
  {
   "cell_type": "code",
   "execution_count": null,
   "metadata": {},
   "outputs": [],
   "source": []
  }
 ],
 "metadata": {
  "colab": {
   "provenance": []
  },
  "kernelspec": {
   "display_name": "Python 3 (ipykernel)",
   "language": "python",
   "name": "python3"
  },
  "language_info": {
   "codemirror_mode": {
    "name": "ipython",
    "version": 3
   },
   "file_extension": ".py",
   "mimetype": "text/x-python",
   "name": "python",
   "nbconvert_exporter": "python",
   "pygments_lexer": "ipython3",
   "version": "3.9.13"
  }
 },
 "nbformat": 4,
 "nbformat_minor": 4
}
